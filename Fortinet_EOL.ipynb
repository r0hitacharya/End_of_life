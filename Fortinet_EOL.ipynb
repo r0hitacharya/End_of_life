{
 "cells": [
  {
   "cell_type": "markdown",
   "metadata": {},
   "source": [
    "# Libraries"
   ]
  },
  {
   "cell_type": "code",
   "execution_count": 1,
   "metadata": {},
   "outputs": [],
   "source": [
    "import urllib.request as req\n",
    "import bs4\n",
    "import ssl\n",
    "ssl._create_default_https_context = ssl._create_unverified_context\n",
    "import pandas as pd\n",
    "import datetime as dt\n",
    "import re "
   ]
  },
  {
   "cell_type": "code",
   "execution_count": 96,
   "metadata": {},
   "outputs": [],
   "source": [
    "url_pal = \"https://www.paloaltonetworks.com/services/support/end-of-life-announcements/hardware-end-of-life-dates\"\n",
    "userAgent_pal = \"Mozilla/5.0 (Macintosh; Intel Mac OS X 10_15_1) AppleWebKit/537.36 (KHTML, like Gecko) Chrome/78.0.3904.108 Safari/537.36\"\n",
    "\n",
    "# Create a request object\n",
    "request_pal = req.Request(url_pal, headers={\n",
    "    \"user-agent\": userAgent_pal\n",
    "})\n",
    "\n",
    "# Create an empty DataFrame\n",
    "df_pal = pd.DataFrame(columns=['Label', 'EOS', 'EOL'])\n",
    "\n",
    "# Send the request and get the response\n",
    "with req.urlopen(request_pal) as res_pal:\n",
    "    # Decode the response content\n",
    "    webCode_pal = res_pal.read().decode(\"utf-8\")\n",
    "\n",
    "# Parse the response content\n",
    "root_pal = bs4.BeautifulSoup(webCode_pal, \"html.parser\")\n",
    "table_pal = root_pal.find_all(\"td\")\n",
    "\n",
    "# Iterate over the table rows and extract the data\n",
    "data_pal = []\n",
    "for i in range(0, len(table_pal), 5):\n",
    "    label = table_pal[i].text.strip()\n",
    "    eos = table_pal[i+1].text.strip()\n",
    "    eol = table_pal[i+2].text.strip()\n",
    "    data_pal.append([label, eos, eol])\n",
    " \n",
    "# Concatenate the DataFrames, if the data_pal list is not empty\n",
    "if data_pal:\n",
    "    df_pal = pd.concat([pd.DataFrame(data) for data in data_pal], axis=1, ignore_index=True)"
   ]
  },
  {
   "cell_type": "code",
   "execution_count": 97,
   "metadata": {},
   "outputs": [],
   "source": [
    "#df_pal_transposed\n",
    "df_pal = df_pal.T"
   ]
  },
  {
   "cell_type": "markdown",
   "metadata": {},
   "source": [
    "# Data Cleaning"
   ]
  },
  {
   "cell_type": "code",
   "execution_count": 98,
   "metadata": {},
   "outputs": [],
   "source": [
    "# Rename the columns\n",
    "df_pal = df_pal.rename(columns={0: 'Product_T', 1: 'EOS', 2: 'EOL'})"
   ]
  },
  {
   "cell_type": "code",
   "execution_count": 99,
   "metadata": {},
   "outputs": [],
   "source": [
    "# Remove all whitespaces\n",
    "df_pal['EOS'] = df_pal['EOS'].str.replace(r'\\s+', '')\n",
    "df_pal['EOL'] = df_pal['EOL'].str.replace(r'\\s+', '')\n",
    "df_pal['Product_T'] = df_pal['Product_T'].str.replace(r'\\s+', '')\n",
    "df_pal['Product_T'] = df_pal['Product_T'].str.replace('(', '').str.replace(')', '')\n",
    "df_pal['Product_T'] = df_pal['Product_T'].str.replace('\\n', ',')"
   ]
  },
  {
   "cell_type": "code",
   "execution_count": 101,
   "metadata": {},
   "outputs": [],
   "source": [
    "df_pal['Product'] = df_pal['Product_T'].str.split('and ')\n",
    "df_pal['Product'] = df_pal['Product_T'].str.split(',')"
   ]
  },
  {
   "cell_type": "code",
   "execution_count": 103,
   "metadata": {},
   "outputs": [],
   "source": [
    "df_pal = df_pal.explode('Product')\n",
    "df_pal = df_pal.drop('Product_T', axis=1)"
   ]
  },
  {
   "cell_type": "code",
   "execution_count": 105,
   "metadata": {},
   "outputs": [],
   "source": [
    "# Export the df_pal DataFrame to a CSV file\n",
    "df_pal.to_csv('Fortinet_EOL.csv', index=False)"
   ]
  },
  {
   "cell_type": "code",
   "execution_count": null,
   "metadata": {},
   "outputs": [],
   "source": [
    "!jupyter nbconvert --to script Fortinet_EOL.ipynb"
   ]
  }
 ],
 "metadata": {
  "kernelspec": {
   "display_name": "Python 3",
   "language": "python",
   "name": "python3"
  },
  "language_info": {
   "codemirror_mode": {
    "name": "ipython",
    "version": 3
   },
   "file_extension": ".py",
   "mimetype": "text/x-python",
   "name": "python",
   "nbconvert_exporter": "python",
   "pygments_lexer": "ipython3",
   "version": "3.8.5"
  }
 },
 "nbformat": 4,
 "nbformat_minor": 2
}
