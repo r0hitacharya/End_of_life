{
 "cells": [
  {
   "cell_type": "markdown",
   "metadata": {},
   "source": [
    "This script performs the following tasks:\n",
    "\n",
    "- Scrapes the Riverbed website to obtain information about product SKUs and their end-of-life (EOL) dates.\n",
    "- Cleans the date columns in the dataset to ensure that they are in a consistent format.\n",
    "- Cleans the string columns in the dataset to remove any unwanted whitespace or tab characters.\n",
    "- Outputs some basic statistics about the dataset, including the maximum and minimum EOL dates for each date column, as well as the total number of unique SKUs and total number of rows in the dataset.\n",
    "- Writes the cleaned dataset to a JSON file for further analysis.\n",
    "\n",
    "The script is designed to provide a summary of the EOL dates for Riverbed products, as well as some basic statistics about the dataset, and to prepare the data for further analysis."
   ]
  },
  {
   "cell_type": "markdown",
   "metadata": {
    "ExecuteTime": {
     "end_time": "2023-03-15T07:21:22.874693Z",
     "start_time": "2023-03-15T07:21:21.110696Z"
    }
   },
   "source": [
    "# Libraries"
   ]
  },
  {
   "cell_type": "code",
   "execution_count": 193,
   "metadata": {},
   "outputs": [],
   "source": [
    "import re\n",
    "import json\n",
    "import requests\n",
    "from bs4 import BeautifulSoup\n",
    "import pandas as pd\n",
    "import html5lib\n",
    "import datetime as dt\n",
    "from datetime import date"
   ]
  },
  {
   "cell_type": "markdown",
   "metadata": {},
   "source": [
    "# Web Scraping"
   ]
  },
  {
   "cell_type": "code",
   "execution_count": 114,
   "metadata": {
    "ExecuteTime": {
     "end_time": "2023-03-15T07:21:27.135000Z",
     "start_time": "2023-03-15T07:21:22.894195Z"
    }
   },
   "outputs": [],
   "source": [
    "# Scrape the Riverbed end-of-life webpage to obtain product SKU and EOL date information through beautiful soup\n",
    "url = 'https://support.riverbed.com/content/support/eos_eoa.html'\n",
    "soup = BeautifulSoup(requests.get(url).content, 'html5lib')"
   ]
  },
  {
   "cell_type": "code",
   "execution_count": 115,
   "metadata": {},
   "outputs": [],
   "source": [
    "#This code finds the first `<script>` tag in the HTML content of the Riverbed EOL webpage that contains the string 'var EOL_ENTRIES =' \n",
    "# and assigns it to the variable `script_tag`.\n",
    "script_tag = soup.find('script', string=re.compile('var EOL_ENTRIES ='))"
   ]
  },
  {
   "cell_type": "code",
   "execution_count": 116,
   "metadata": {
    "ExecuteTime": {
     "end_time": "2023-03-15T07:21:27.181501Z",
     "start_time": "2023-03-15T07:21:27.171005Z"
    }
   },
   "outputs": [],
   "source": [
    "# extract string from this script tag\n",
    "t = re.search(r'var EOL_ENTRIES = (\\[.*\\]);', script_tag.string, flags=re.S)[1]"
   ]
  },
  {
   "cell_type": "code",
   "execution_count": 117,
   "metadata": {
    "ExecuteTime": {
     "end_time": "2023-03-15T07:21:28.049502Z",
     "start_time": "2023-03-15T07:21:27.201501Z"
    }
   },
   "outputs": [],
   "source": [
    "# preprocess the string\n",
    "t = t.replace(\"'\", '\"')\n",
    "t = re.sub(r'^(\\s*)(.*?):', r'\\1\"\\2\":', t, flags=re.M)"
   ]
  },
  {
   "cell_type": "code",
   "execution_count": 215,
   "metadata": {
    "ExecuteTime": {
     "end_time": "2023-03-15T07:21:28.111502Z",
     "start_time": "2023-03-15T07:21:28.053002Z"
    }
   },
   "outputs": [],
   "source": [
    "# decode string to Python data\n",
    "data = json.loads(t)"
   ]
  },
  {
   "cell_type": "code",
   "execution_count": 216,
   "metadata": {
    "ExecuteTime": {
     "end_time": "2023-03-15T07:21:28.638502Z",
     "start_time": "2023-03-15T07:21:28.115502Z"
    }
   },
   "outputs": [],
   "source": [
    "df = pd.DataFrame()\n",
    "df = pd.json_normalize(json.loads(t))"
   ]
  },
  {
   "cell_type": "code",
   "execution_count": 217,
   "metadata": {},
   "outputs": [],
   "source": [
    "# removing unwanted columns\n",
    "df = df.drop(['dateEoaAnnouncedFormatted', 'limitedAvailabilityFormatted', 'endOfAvailabilityFormatted', 'endOfSupportFeaturesFormatted', 'endOfSupportMaintenanceFormatted','linkOverride'], axis=1)"
   ]
  },
  {
   "cell_type": "markdown",
   "metadata": {},
   "source": [
    "# Data Cleaning"
   ]
  },
  {
   "cell_type": "markdown",
   "metadata": {},
   "source": [
    "## Dates Cleaning"
   ]
  },
  {
   "cell_type": "code",
   "execution_count": 218,
   "metadata": {},
   "outputs": [],
   "source": [
    "# Function to convert date to yyyy-mm-dd format\n",
    "def convert_date(date_str):\n",
    "    if \"Immediat\" in date_str or \"EOA\" in date_str:\n",
    "        return date.today().strftime(\"%Y-%m-%d\")\n",
    "    \n",
    "    if date_str in [\"\", \"N/A\"]:\n",
    "        return \"\"\n",
    "    try:\n",
    "        # Try parsing with different formats\n",
    "        for date_format in [\"%b %d, %Y\", \"%a %b %d %H:%M:%S %Z %Y\", \"%Y-%m-%d\"]:\n",
    "            try:\n",
    "                pt = dt.datetime.strptime(date_str, date_format)\n",
    "                return pt.strftime(\"%Y-%m-%d\")\n",
    "            except ValueError:\n",
    "                continue\n",
    "    except Exception as e:\n",
    "        print(f\"Error: {e}\")\n",
    "        return \"\"\n",
    "    return \"\""
   ]
  },
  {
   "cell_type": "code",
   "execution_count": 219,
   "metadata": {},
   "outputs": [],
   "source": [
    "# Applying the function to all date columns\n",
    "df['dateEoaAnnounced'] = df['dateEoaAnnounced'].apply(convert_date)\n",
    "df['endOfAvailability'] = df['endOfAvailability'].apply(convert_date)\n",
    "df['endOfSupportFeatures'] = df['endOfSupportFeatures'].apply(convert_date)\n",
    "df['endOfSupportMaintenance'] = df['endOfSupportMaintenance'].apply(convert_date)"
   ]
  },
  {
   "cell_type": "code",
   "execution_count": 220,
   "metadata": {},
   "outputs": [],
   "source": [
    "df['refreshed_date']=pd.to_datetime('today')\n",
    "df['refreshed_date']=df['refreshed_date'].dt.date"
   ]
  },
  {
   "cell_type": "markdown",
   "metadata": {},
   "source": [
    "## Textual Cleaning"
   ]
  },
  {
   "cell_type": "code",
   "execution_count": 221,
   "metadata": {
    "ExecuteTime": {
     "end_time": "2023-03-15T07:21:28.716502Z",
     "start_time": "2023-03-15T07:21:28.645002Z"
    }
   },
   "outputs": [],
   "source": [
    "#Cleaning all whitespaces and tabs for string columns\n",
    "df['description']=df['description'].str.lstrip().replace('\\t','')\n",
    "df['productFamily']=df['productFamily'].str.lstrip().replace('\\t','')\n",
    "df['shortName']=df['shortName'].str.lstrip().replace('\\t','')\n",
    "df['link']=df['link'].str.lstrip().replace('\\t','')"
   ]
  },
  {
   "cell_type": "markdown",
   "metadata": {},
   "source": [
    "# Output"
   ]
  },
  {
   "cell_type": "markdown",
   "metadata": {},
   "source": [
    "> **Note:** It's important to keep in mind that a single SKU may have multiple model numbers associated with it. Hence unique SKUs will be lesser then the number of rows in the dataset"
   ]
  },
  {
   "cell_type": "code",
   "execution_count": 213,
   "metadata": {
    "ExecuteTime": {
     "end_time": "2020-08-03T05:24:05.472321Z",
     "start_time": "2020-08-03T05:24:05.240218Z"
    }
   },
   "outputs": [],
   "source": [
    "# use this for JSON output\n",
    "with open('Riverbed_EOL.json', 'w') as outfile:\n",
    "     json.dump(data, outfile)"
   ]
  },
  {
   "cell_type": "code",
   "execution_count": 255,
   "metadata": {},
   "outputs": [
    {
     "name": "stdout",
     "output_type": "stream",
     "text": [
      "Summary for Riverbed EOL\n",
      "************************************************\n",
      "Maximum dateEoaAnnounced date: 2023-06-15\n",
      "Minimum dateEoaAnnounced date: 2020-02-14\n",
      "************************************************\n",
      "Maximum endOfAvailability date: 2028-08-15\n",
      "Minimum endOfAvailability date: 2005-02-28\n",
      "************************************************\n",
      "Maximum endOfSupportFeatures date: 2025-08-15\n",
      "Minimum endOfSupportFeatures date: 2007-02-28\n",
      "************************************************\n",
      "Maximum endOfSupportMaintenance date: 2028-08-15\n",
      "Minimum endOfSupportMaintenance date: 2008-02-28\n",
      "************************************************\n",
      "Total number of SKUs: 4287\n",
      "Total number of Rows: 4675\n"
     ]
    }
   ],
   "source": [
    "# Summary report for Riverbed_EOL\n",
    "print(\"Summary for Riverbed EOL\")\n",
    "print(\"************************************************\")\n",
    "date_cols = ['dateEoaAnnounced', 'endOfAvailability', 'endOfSupportFeatures', 'endOfSupportMaintenance']\n",
    "\n",
    "for col in date_cols:\n",
    "    max_date = df[col].max()\n",
    "    min_date = df[col][df[col].str.strip() != ''].dropna().min()\n",
    "    \n",
    "    print(f\"Maximum {col} date: {max_date}\")\n",
    "    print(f\"Minimum {col} date: {min_date}\")\n",
    "    print(\"************************************************\")\n",
    "    \n",
    "total_skus = df['sku'].nunique()\n",
    "total_rows = len(df)\n",
    "print(f\"Total number of SKUs: {total_skus}\")\n",
    "print(f\"Total number of Rows: {total_rows}\")"
   ]
  },
  {
   "cell_type": "code",
   "execution_count": 256,
   "metadata": {},
   "outputs": [
    {
     "name": "stderr",
     "output_type": "stream",
     "text": [
      "[NbConvertApp] Converting notebook Riverbed_EOL_p.ipynb to script\n",
      "[NbConvertApp] Writing 4689 bytes to Riverbed_EOL_p.py\n"
     ]
    }
   ],
   "source": [
    "!jupyter nbconvert --to script Riverbed_EOL_p.ipynb"
   ]
  }
 ],
 "metadata": {
  "kernelspec": {
   "display_name": "Python 3",
   "language": "python",
   "name": "python3"
  },
  "language_info": {
   "codemirror_mode": {
    "name": "ipython",
    "version": 3
   },
   "file_extension": ".py",
   "mimetype": "text/x-python",
   "name": "python",
   "nbconvert_exporter": "python",
   "pygments_lexer": "ipython3",
   "version": "3.8.5"
  }
 },
 "nbformat": 4,
 "nbformat_minor": 2
}
